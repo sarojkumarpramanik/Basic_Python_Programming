{
 "cells": [
  {
   "cell_type": "markdown",
   "metadata": {},
   "source": [
    "# Data Toolkit _ Programming in Python"
   ]
  },
  {
   "cell_type": "markdown",
   "metadata": {},
   "source": [
    "## Basic Refresher "
   ]
  },
  {
   "cell_type": "markdown",
   "metadata": {},
   "source": [
    "### MCQs"
   ]
  },
  {
   "cell_type": "markdown",
   "metadata": {},
   "source": [
    "#### Question_1:\n",
    "__Predict Output__\n",
    "```\n",
    "p = 4**3\n",
    "print(p)\n",
    "```\n",
    "What will be the output of the above code snippet?\n",
    "- 12\n",
    "- 7\n",
    "- 64\n",
    "- 81"
   ]
  },
  {
   "cell_type": "code",
   "execution_count": null,
   "metadata": {},
   "outputs": [],
   "source": [
    "p = 4**3\n",
    "print(p)\n",
    "# Explanation: p=4**3 is same as saying p = 4^3 = 64"
   ]
  },
  {
   "cell_type": "markdown",
   "metadata": {},
   "source": [
    "#### Question_2:\n",
    "__Predict Output__\n",
    "\n",
    "Can you predict what will be the value of 'a' after executing the following code?\n",
    "```\n",
    "a = 21 % 4\n",
    "```\n",
    "- 1\n",
    "- 5\n",
    "- 6\n",
    "- 9"
   ]
  },
  {
   "cell_type": "code",
   "execution_count": null,
   "metadata": {},
   "outputs": [],
   "source": [
    "a = 21 % 4\n",
    "a\n",
    "# Explanation: The '%' operator gives the remainder. a = 21 % 4\n",
    "# will store the remainder after division of 21 by 4 in 'a'."
   ]
  },
  {
   "cell_type": "markdown",
   "metadata": {},
   "source": [
    "#### Question_3:\n",
    "__Division__\n",
    "\n",
    "Predict the output of the following code.\n",
    "```\n",
    "d = 23//5\n",
    "print(d)\n",
    "```\n",
    "- 4\n",
    "- 3\n",
    "- 4.6\n",
    "- 5"
   ]
  },
  {
   "cell_type": "code",
   "execution_count": null,
   "metadata": {},
   "outputs": [],
   "source": [
    "d = 23//5\n",
    "print(d)\n",
    "# Explanantion: // operator returns quotient after division. \n",
    "# Think of this as integer division, where the float part of the division is neglected."
   ]
  },
  {
   "cell_type": "markdown",
   "metadata": {},
   "source": [
    "#### Question_4:\n",
    "__Syntax Error__\n",
    "\n",
    "Which of the following will give a syntax error?\n",
    "\n",
    "- ```\n",
    "if (1):\n",
    " print (True)\n",
    " ``` \n",
    "- ```\n",
    "if (1):\n",
    "    print (True)\n",
    " ```\n",
    "- ```\n",
    "if (1) print(True)\n",
    "```\n",
    "- ```\n",
    "if (-1):\n",
    "    print('True')\n",
    "```\n",
    "- ```\n",
    "if (1):\n",
    "    print ('True')\n",
    "```\n",
    "- ```\n",
    "if (1):\n",
    "    print ('True')\n",
    "```\n",
    "- ```\n",
    "if (1)\n",
    "    print (True)\n",
    "```"
   ]
  },
  {
   "cell_type": "code",
   "execution_count": null,
   "metadata": {},
   "outputs": [],
   "source": [
    "if (1):\n",
    "print (True)\n"
   ]
  },
  {
   "cell_type": "code",
   "execution_count": null,
   "metadata": {},
   "outputs": [],
   "source": [
    "if (1):\n",
    "    print (True)"
   ]
  },
  {
   "cell_type": "code",
   "execution_count": null,
   "metadata": {},
   "outputs": [],
   "source": [
    "if (1) print(True)"
   ]
  },
  {
   "cell_type": "code",
   "execution_count": null,
   "metadata": {},
   "outputs": [],
   "source": [
    "if (-1):\n",
    "    print('True')"
   ]
  },
  {
   "cell_type": "code",
   "execution_count": null,
   "metadata": {},
   "outputs": [],
   "source": [
    "if (1):\n",
    "    print ('True')"
   ]
  },
  {
   "cell_type": "code",
   "execution_count": null,
   "metadata": {},
   "outputs": [],
   "source": [
    "if (1)\n",
    "\n",
    "    print (True)"
   ]
  },
  {
   "cell_type": "markdown",
   "metadata": {},
   "source": [
    "#### Question_5:\n",
    "__Output__\n",
    "\n",
    "What will be the output of the following code?\n",
    "```\n",
    "for i in range(3):\n",
    "    print(i)\n",
    "```\n",
    "- 1 2 3<br><br>\n",
    "- 0 1 2<br><br>\n",
    "- 0 <br>\n",
    " 1<br>\n",
    " 2<br><br>\n",
    "- 1<br>\n",
    " 2<br>\n",
    " 3<br>"
   ]
  },
  {
   "cell_type": "code",
   "execution_count": null,
   "metadata": {},
   "outputs": [],
   "source": [
    "for i in range(3):\n",
    "    print(i)\n",
    "\n",
    "# Expalanation: print() goes to a new line after printing by default.range(3) will make i go over 0 1 2"
   ]
  },
  {
   "cell_type": "markdown",
   "metadata": {},
   "source": [
    "#### Question_6:\n",
    "__Print__\n",
    "\n",
    "Which of the following will give output as:\n",
    "\n",
    "```\n",
    "11 12 13\n",
    "\n",
    "14\n",
    "```\n",
    "\n",
    "- ```\n",
    "print('11 12 13 \\n14')\n",
    " ``` \n",
    "- ```\n",
    "a=11\n",
    "b=12\n",
    "c=13 \n",
    "d=14\n",
    "print(a+b+c)\n",
    "print(d)\n",
    "```\n",
    "- ```\n",
    "a=11\n",
    "b=12\n",
    "c=13 \n",
    "d=14\n",
    "print(a,b,c)\n",
    "print(d)\n",
    "```\n",
    "- ```\n",
    "a=11\n",
    "b=12\n",
    "c=13 \n",
    "d=14\n",
    "print('{0} {1} {2}'.format(a,b,c) )\n",
    "print(d)\n",
    "```\n",
    "- ```\n",
    "a=11\n",
    "b=12\n",
    "c=13 \n",
    "d=14\n",
    "print('%d %d %d' %(a,b,c))\n",
    "print(d)\n",
    "```\n",
    "- ```\n",
    "a=11\n",
    "b=12\n",
    "c=13 \n",
    "d=14\n",
    "print(f'{a}{b}{c}')\n",
    "print(d)\n",
    "```"
   ]
  },
  {
   "cell_type": "code",
   "execution_count": null,
   "metadata": {},
   "outputs": [],
   "source": [
    "print('11 12 13 \\n14')"
   ]
  },
  {
   "cell_type": "code",
   "execution_count": null,
   "metadata": {},
   "outputs": [],
   "source": [
    "a=11\n",
    "b=12\n",
    "c=13 \n",
    "d=14\n",
    "print(a+b+c)\n",
    "print(d)"
   ]
  },
  {
   "cell_type": "code",
   "execution_count": null,
   "metadata": {},
   "outputs": [],
   "source": [
    "a=11\n",
    "b=12\n",
    "c=13 \n",
    "d=14\n",
    "print(a,b,c)\n",
    "print(d)"
   ]
  },
  {
   "cell_type": "code",
   "execution_count": null,
   "metadata": {},
   "outputs": [],
   "source": [
    "a=11\n",
    "b=12\n",
    "c=13 \n",
    "d=14\n",
    "print('{0} {1} {2}'.format(a,b,c) )\n",
    "print(d)"
   ]
  },
  {
   "cell_type": "code",
   "execution_count": null,
   "metadata": {},
   "outputs": [],
   "source": [
    "a=11\n",
    "b=12\n",
    "c=13 \n",
    "d=14\n",
    "print('%d %d %d' %(a,b,c))\n",
    "print(d)"
   ]
  },
  {
   "cell_type": "code",
   "execution_count": null,
   "metadata": {},
   "outputs": [],
   "source": [
    "a=11\n",
    "b=12\n",
    "c=13 \n",
    "d=14\n",
    "print(f'{a}{b}{c}')\n",
    "print(d)"
   ]
  },
  {
   "cell_type": "code",
   "execution_count": null,
   "metadata": {},
   "outputs": [],
   "source": [
    "# try to print factorial of given number\n",
    "n = int(input())\n",
    "from functools import reduce\n",
    "if n == 0:\n",
    "    print(1)\n",
    "else:\n",
    "    fact = reduce(lambda x,y : x*y,range(1,n+1))\n",
    "    print(fact)"
   ]
  },
  {
   "cell_type": "markdown",
   "metadata": {},
   "source": [
    "### Coding Practice"
   ]
  },
  {
   "cell_type": "markdown",
   "metadata": {},
   "source": [
    "__Swapping__<br><br>\n",
    "__Description__<br><br>\n",
    "You are given two integer variables,  x and y. You have to swap the values stored in x and y.<br><br>\n",
    "__Input:__<br>\n",
    "Two numbers x and y separated by a comma.<br><br>\n",
    "__Output:__<br>\n",
    "Print 5 lines. The first two lines will have values of variables shown before swapping, and the last two lines will have values of variables shown after swapping. The third line will be blank.<br><br>\n",
    "__Sample input:__<br>\n",
    "20, 50<br><br>\n",
    "__Sample output:__<br>\n",
    "```\n",
    "x before swapping: 20\n",
    "y before swapping: 50\n",
    "\n",
    "x after swapping: 50\n",
    "y after swapping: 20\n",
    "```"
   ]
  },
  {
   "cell_type": "code",
   "execution_count": null,
   "metadata": {},
   "outputs": [],
   "source": [
    "# Solution 1: using temprory varaible\n",
    "in_str = input()\n",
    "in_list = in_str.split(\", \")\n",
    "x = int(in_list[0])\n",
    "y = int(in_list[1])\n",
    "\n",
    "print(\"x before swapping:\",x)\n",
    "print(\"y before swapping:\",y)\n",
    "\n",
    "z = x\n",
    "x = y\n",
    "y = z\n",
    "\n",
    "print(\"\\nx after swapping:\",x)\n",
    "print(\"y after swapping:\",y)"
   ]
  },
  {
   "cell_type": "code",
   "execution_count": null,
   "metadata": {},
   "outputs": [],
   "source": [
    "# Solution 1: using x,y = y,x\n",
    "in_str = input()\n",
    "in_list = in_str.split(\", \")\n",
    "x = int(in_list[0])\n",
    "y = int(in_list[1])\n",
    "\n",
    "print(\"x before swapping:\",x)\n",
    "print(\"y before swapping:\",y)\n",
    "\n",
    "x,y = y,x\n",
    "\n",
    "print(\"\\nx after swapping:\",x)\n",
    "print(\"y after swapping:\",y)"
   ]
  },
  {
   "cell_type": "markdown",
   "metadata": {},
   "source": [
    "__Even Or Odd__<br><br>\n",
    "__Description__<br><br>\n",
    "Given an integer, print whether it is Even or Odd.<br><br>\n",
    "__Input:__<br>\n",
    "An integer<br><br>\n",
    "__Output:__<br>\n",
    "'Even' or 'Odd'<br><br>\n",
    "__Sample input_1:__<br>\n",
    "3<br><br>\n",
    "__Sample output_1:__<br>\n",
    "Odd<br><br>\n",
    "__Sample input_2:__<br>\n",
    "6<br><br>\n",
    "__Sample output_2:__<br>\n",
    "Even<br><br>"
   ]
  },
  {
   "cell_type": "code",
   "execution_count": null,
   "metadata": {},
   "outputs": [],
   "source": [
    "num = int(input())\n",
    "if num%2 == 0:\n",
    "    print(\"Even\")\n",
    "else:\n",
    "    print(\"Odd\")"
   ]
  },
  {
   "cell_type": "markdown",
   "metadata": {},
   "source": [
    "__Beautiful Pretty Sexy__<br><br>\n",
    "__Description__<br><br>\n",
    "A number k is beautiful if it is of the form 3n+1, is pretty if it is of the form 3n+2 and is sexy if it is of form 3n.<br>\n",
    "Given a number k, print if it is beautiful, pretty or sexy.<br><br>\n",
    "__Input:__<br>\n",
    "int<br><br>\n",
    "__Output:__<br>\n",
    "beautiful, pretty or sexy<br><br>\n",
    "__Sample input_1:__<br>\n",
    "21<br><br>\n",
    "__Sample output_1:__<br>\n",
    "sexy<br><br>\n",
    "__Sample input_2:__<br>\n",
    "22<br><br>\n",
    "__Sample output_2:__<br>\n",
    "beautiful<br><br>\n",
    "__Sample input_3:__<br>\n",
    "23<br><br>\n",
    "__Sample output_3:__<br>\n",
    "pretty<br><br>"
   ]
  },
  {
   "cell_type": "code",
   "execution_count": null,
   "metadata": {},
   "outputs": [],
   "source": [
    "k = int(input())\n",
    "\n",
    "if k%3 == 0:\n",
    "    print(\"sexy\")\n",
    "elif k%3 == 1:\n",
    "    print(\"beautiful\")\n",
    "elif k%3 == 2:\n",
    "    print(\"pretty\")"
   ]
  },
  {
   "cell_type": "markdown",
   "metadata": {},
   "source": [
    "__Alarm Clock__<br><br>\n",
    "__Description__<br><br>\n",
    "You're trying to automate your alarm clock by writing a function for it. You're given a day of the week encoded as 1=Mon, 2=Tue, ... 6=Sat, 7=Sun, and whether you are on vacation as a boolean value (a boolean object is either True or False. Google \"booleans python\" to get a better understanding). Based on the day and whether you're on vacation, write a function that returns a time in form of a string indicating when the alarm clock should ring.<br><br>\n",
    "When not on a vacation, on weekdays, the alarm should ring at \"7:00\" and on the weekends (Saturday and Sunday) it should ring at \"10:00\". <br><br>\n",
    "While on a vacation, it should ring at \"10:00\" on weekdays. On vacation, it should not ring on weekends, that is, it should return \"off\". <br><br>\n",
    "__Input:__<br>\n",
    "The input will be a list of two elements. The first element will be an integer from 1 to 7, and the second element will be a boolean value.<br><br>\n",
    "__Output:__<br>\n",
    "The output will be a string denoting the time alarm will ring or 'off'<br><br>\n",
    "__Sample input_1:__<br>\n",
    "[7, True]<br><br>\n",
    "__Sample output_1:__<br>\n",
    "off<br><br>\n",
    "__Sample input_2:__<br>\n",
    "[3, True]<br><br>\n",
    "__Sample output_2:__<br>\n",
    "10:00<br><br>"
   ]
  },
  {
   "cell_type": "code",
   "execution_count": null,
   "metadata": {},
   "outputs": [],
   "source": [
    "# Solution_1: nested if else\n",
    "import ast\n",
    "input_list = ast.literal_eval(input())\n",
    "day_of_the_week = input_list[0]\n",
    "is_on_vacation = input_list[1]\n",
    "weekend = [6,7]\n",
    "\n",
    "if is_on_vacation:\n",
    "    if day_of_the_week in weekend:\n",
    "        print('off')\n",
    "    else:\n",
    "        print('10:00')\n",
    "else:\n",
    "    if day_of_the_week in weekend:\n",
    "        print('10:00')\n",
    "    else:\n",
    "        print('7:00')"
   ]
  },
  {
   "cell_type": "code",
   "execution_count": null,
   "metadata": {},
   "outputs": [],
   "source": [
    "# Solution_2: nested if elif\n",
    "import ast\n",
    "input_list = ast.literal_eval(input())\n",
    "day_of_the_week = input_list[0]\n",
    "is_on_vacation = input_list[1]\n",
    "weekend = [6,7]\n",
    "\n",
    "if is_on_vacation == True and day_of_the_week in weekend:\n",
    "    print('Off')\n",
    "elif is_on_vacation == True and  day_of_the_week not in weekend:\n",
    "    print('10:00')\n",
    "elif is_on_vacation == False and day_of_the_week in weekend:\n",
    "    print('10:00')\n",
    "else:\n",
    "    print('7:00')"
   ]
  },
  {
   "cell_type": "code",
   "execution_count": null,
   "metadata": {},
   "outputs": [],
   "source": [
    "# Solution_3: using user defined function with nested if else\n",
    "import ast\n",
    "input_list = ast.literal_eval(input())\n",
    "day_of_the_week = input_list[0]\n",
    "is_on_vacation = input_list[1]\n",
    "\n",
    "def alarm(day_of_the_week,is_on_vacation):\n",
    "    weekend = [6,7]\n",
    "    if is_on_vacation:\n",
    "        if day_of_the_week in weekend:\n",
    "            return 'off'\n",
    "        else:\n",
    "            return '10:00'\n",
    "    else:\n",
    "        if day_of_the_week in weekend:\n",
    "            return '10:00'\n",
    "        else:\n",
    "            return '7:00'\n",
    "\n",
    "print(alarm(day_of_the_week,is_on_vacation))"
   ]
  },
  {
   "cell_type": "code",
   "execution_count": null,
   "metadata": {},
   "outputs": [],
   "source": [
    "# Solution_4: with user defined function\n",
    "import ast\n",
    "input_list = ast.literal_eval(input())\n",
    "day_of_the_week = input_list[0]\n",
    "is_on_vacation = input_list[1]\n",
    "\n",
    "def alarm_clock(day_of_the_week,is_on_vacation):\n",
    "    weekend = [6,7]\n",
    "    if is_on_vacation == True and day_of_the_week in weekend:\n",
    "        return 'off'\n",
    "    elif is_on_vacation == True and day_of_the_week not in weekend:\n",
    "        return '10:00'\n",
    "    elif is_on_vacation == False and day_of_the_week in weekend:\n",
    "        return '10:00'\n",
    "    else:\n",
    "        return '7:00'\n",
    "\n",
    "print(alarm_clock(day_of_the_week,is_on_vacation))"
   ]
  },
  {
   "cell_type": "markdown",
   "metadata": {},
   "source": [
    "__Factorial__<br><br>\n",
    "__Description__<br><br>\n",
    "Factorial is a mathematical function denoted by '!'. It is defined as<br><br>\n",
    "n factorial = n!= 1*2*3...*(n-1)*n. <br><br>\n",
    "In this question, you have to make a function that will take an integer as input, and return the factorial of that integer if that integer is greater than or equal to zero and return -1 if the number is less than zero or negative.<br><br>\n",
    "Note: the function doesn't return print the factorial but returns it.<br><br>\n",
    "__Input:__<br>\n",
    "An integer n<br><br>\n",
    "__Output:__<br>\n",
    "The function returns n! if n is greater than or equal to 0.<br>\n",
    "0! = 1<br>\n",
    "and the function returns -1 if the number is less than 0.<br><br>\n",
    "__Sample input_1:__<br>\n",
    "3<br><br>\n",
    "__Sample output_1:__<br>\n",
    "6<br><br>\n",
    "__Sample input_2:__<br>\n",
    "-4<br><br>\n",
    "__Sample output_2:__<br>\n",
    "-1<br><br>"
   ]
  },
  {
   "cell_type": "code",
   "execution_count": null,
   "metadata": {},
   "outputs": [],
   "source": [
    "# Solution_1: using user defined function\n",
    "n = int(input())\n",
    "def factorial(n):\n",
    "    if n == 0:\n",
    "        return 1\n",
    "    elif n < 0:\n",
    "        return -1\n",
    "    else:\n",
    "        f = 1\n",
    "        for i in range(1,n+1):\n",
    "            f = f*i\n",
    "        return f\n",
    "\n",
    "k = factorial(n)\n",
    "print(k)\n",
    "    "
   ]
  },
  {
   "cell_type": "code",
   "execution_count": null,
   "metadata": {},
   "outputs": [],
   "source": [
    "# Solution_2: using if elese and for loop\n",
    "n = int(input())\n",
    "if n == 0:\n",
    "    print(1)\n",
    "elif n < 0:\n",
    "    print(-1)\n",
    "else:\n",
    "    f = 1\n",
    "    for i in range(1,n+1):\n",
    "        f *= i\n",
    "    print(f)"
   ]
  },
  {
   "cell_type": "code",
   "execution_count": null,
   "metadata": {},
   "outputs": [],
   "source": [
    "# Solution_3: using reduce and lambda\n",
    "from functools import reduce\n",
    "n = int(input())\n",
    "if n == 0:\n",
    "    print(1)\n",
    "elif n < 0:\n",
    "    print(-1)\n",
    "else:\n",
    "    print(reduce(lambda x,y: x*y,range(1,n+1)))"
   ]
  },
  {
   "cell_type": "markdown",
   "metadata": {},
   "source": [
    "__Reverse The Digits__<br><br>\n",
    "__Description__<br><br>\n",
    "You will be given a number. You have to reverse the digits of the number and print it. <br><br>\n",
    "\n",
    "__Input:__<br>\n",
    "A positive integer greater than zero<br><br>\n",
    "__Output:__<br>\n",
    "The number in reverse order. Check sample outputs for more details.<br><br>\n",
    "__Sample input_1:__<br>\n",
    "345200<br><br>\n",
    "__Sample output_1:__<br>\n",
    "2543<br><br>\n",
    "__Sample input_2:__<br>\n",
    "6752343<br><br>\n",
    "__Sample output_2:__<br>\n",
    "3432576<br><br>"
   ]
  },
  {
   "cell_type": "code",
   "execution_count": null,
   "metadata": {},
   "outputs": [],
   "source": [
    "# Solution_1: using slicing step\n",
    "num = input()\n",
    "reverse_num = int(n[::-1])\n",
    "print(reverse_num)"
   ]
  },
  {
   "cell_type": "code",
   "execution_count": null,
   "metadata": {},
   "outputs": [],
   "source": [
    "# Solution_2: using reverse function\n",
    "num = input()\n",
    "reverse_num = num.\n",
    "print(int(reverse_num))"
   ]
  },
  {
   "cell_type": "code",
   "execution_count": null,
   "metadata": {},
   "outputs": [],
   "source": [
    "# Solution_2 using while loop\n",
    "n = int(input())\n",
    "r = 0\n",
    "while n>0:\n",
    "    r = r*10 + n%10\n",
    "    n = n//10\n",
    "print(r)"
   ]
  },
  {
   "cell_type": "markdown",
   "metadata": {},
   "source": [
    "__How Many Chocolates?__<br><br>\n",
    "__Description__<br><br>\n",
    "Sanjay loves chocolates. He goes to a shop to buy his favourite chocolate. There he notices there is an offer going on, upon bringing 3 wrappers of the same chocolate, you will get new chocolate for free. If Sanjay has m Rupees. How many chocolates will he be able to eat if each chocolate costs c Rupees?<br><br>\n",
    "\n",
    "__Input:__<br>\n",
    "Two positive integers m and c separated by a comma. The first integer is m and the second integer is c <br><br>\n",
    "__Output:__<br>\n",
    "A single integer denoting the number of chocolates Sanjay was able to eat in total.<br><br>\n",
    "__Sample input_1:__<br>\n",
    "15, 2<br><br>\n",
    "__Sample output_1:__<br>\n",
    "10<br><br>\n",
    "__Explanation:__<br>\n",
    "First, he will get 15/2=7 chocolates. He then will return 6 wrappers for 2 chocolates. And lastly, these two wrappers and the one he previously had will get him one more chocolate, making a total of 7+2+1=10 chocolates.<br><br>\n",
    "__Sample input_2:__<br>\n",
    "3,1<br><br>\n",
    "__Sample output_2:__<br>\n",
    "4<br><br>"
   ]
  },
  {
   "cell_type": "code",
   "execution_count": null,
   "metadata": {},
   "outputs": [],
   "source": [
    "in_list = input().split(',')\n",
    "m = int(in_list[0])\n",
    "c = int(in_list[1])\n",
    "\n",
    "choc = m//c\n",
    "w = m//c\n",
    "\n",
    "while w//3 != 0:\n",
    "    choc += w//3\n",
    "    w = w//3 + w%3\n",
    "\n",
    "print(choc)"
   ]
  },
  {
   "cell_type": "markdown",
   "metadata": {},
   "source": [
    "__Print The Pattern__<br><br>\n",
    "__Description__<br><br>\n",
    "Printing different patterns is a very good exercise to reinforce iteration through loops and strong logic building. Here you will be given a positive integer and you will generate pattern based on that integer.<br><br>\n",
    "\n",
    "__Input:__<br>\n",
    "A positive integer n<br>\n",
    "1 <= n <=20<br><br>\n",
    "__Output:__<br>\n",
    "A pattern as described by the Sample input and outputs below.<br><br>\n",
    "__Sample input_1:__<br>\n",
    "5<br><br>\n",
    "__Sample output_1:__<br>\n",
    "```\n",
    "    *\n",
    "   *_*\n",
    "  *_*_*\n",
    " *_*_*_*\n",
    "*_*_*_*_*\n",
    "``` \n",
    "\n",
    "__Sample input_2:__<br>\n",
    "3<br><br>\n",
    "__Sample output_2:__<br>\n",
    "```\n",
    "  *\n",
    " *_*\n",
    "*_*_*\n",
    "```"
   ]
  },
  {
   "cell_type": "code",
   "execution_count": null,
   "metadata": {},
   "outputs": [],
   "source": [
    "n = int(input())\n",
    "for row in range(1,n+1):\n",
    "    for col in range(n-row):\n",
    "        print(\" \",end=\"\")\n",
    "    for col in range(row-1):\n",
    "        print(\"*_\",end=\"\")\n",
    "    print('*')"
   ]
  },
  {
   "cell_type": "markdown",
   "metadata": {},
   "source": [
    "## List"
   ]
  },
  {
   "cell_type": "markdown",
   "metadata": {},
   "source": [
    "### MCQs"
   ]
  },
  {
   "cell_type": "markdown",
   "metadata": {},
   "source": [
    "#### Question_1:\n",
    "__List__\n",
    "Which of the following will make a list?\n",
    "- ```L = [1, 2, 3, 4]```\n",
    "- ```L = [i for i in range(1, 5)]```\n",
    "- ```L = [for i in range(1, 5) i]```\n",
    "- ```L = [for i in range(1, 5): i]```"
   ]
  },
  {
   "cell_type": "code",
   "execution_count": null,
   "metadata": {},
   "outputs": [],
   "source": [
    "L = [1, 2, 3, 4]\n",
    "L"
   ]
  },
  {
   "cell_type": "code",
   "execution_count": null,
   "metadata": {},
   "outputs": [],
   "source": [
    "L = [i for i in range(1, 5)]\n",
    "L"
   ]
  },
  {
   "cell_type": "code",
   "execution_count": null,
   "metadata": {},
   "outputs": [],
   "source": [
    "L = [for i in range(1, 5) i]\n",
    "L"
   ]
  },
  {
   "cell_type": "code",
   "execution_count": null,
   "metadata": {},
   "outputs": [],
   "source": [
    "L = [for i in range(1, 5): i]\n",
    "L"
   ]
  },
  {
   "cell_type": "markdown",
   "metadata": {},
   "source": [
    "#### Question_2:\n",
    "__List__\n",
    "What will be the output of the following code\n",
    "```\n",
    "L=[2, 3, 4, 2, 1, 2, 3]\n",
    "print(L.index(2))\n",
    "```\n",
    "- ```0```\n",
    "- ```1```\n",
    "- ```5```\n",
    "- ```6```\n",
    "- ```3```"
   ]
  },
  {
   "cell_type": "code",
   "execution_count": null,
   "metadata": {},
   "outputs": [],
   "source": [
    "L=[2, 3, 4, 2, 1, 2, 3]\n",
    "print(L.index(2))\n",
    "# Explanation: L.index(k) will return the index of the first occurrence of the element k in L"
   ]
  },
  {
   "cell_type": "markdown",
   "metadata": {},
   "source": [
    "#### Question_3:\n",
    "__What is K__\n",
    "What is K in the following code?\n",
    "```\n",
    "L = [2, 1, 2, 4, 5, 3, 6]\n",
    "K = 4 in L\n",
    "```\n",
    "- All index's of element 4 in the list L\n",
    "- Boolean saying if 4 is in List or not\n",
    "- Will give an updated list after adding 4 to the list\n",
    "- Will give an updated list after adding 4 to the list if 4 is not present in the list"
   ]
  },
  {
   "cell_type": "code",
   "execution_count": null,
   "metadata": {},
   "outputs": [],
   "source": [
    "L = [2, 1, 2, 4, 5, 3, 6]\n",
    "K = 4 in L\n",
    "K\n",
    "# Explanation: in functionality checks if the element is in the list or no. "
   ]
  },
  {
   "cell_type": "markdown",
   "metadata": {},
   "source": [
    "#### Question_4:\n",
    "__Many Ways__\n",
    "```\n",
    "Given L=[10,20,30,40,50,60,70,80,90,100], how will you get a list [20, 40, 60, 80]\n",
    "```\n",
    "- ```L[[1, 3, 5, 7]]```\n",
    "- ```L[1, 3, 5, 7]```\n",
    "- ```L[1::2]```\n",
    "- ```L[1:-1:2]```\n",
    "- ```L[2:-1:2]```\n",
    "- ```[L[i] for i in range(1,9,2)]```"
   ]
  },
  {
   "cell_type": "code",
   "execution_count": null,
   "metadata": {},
   "outputs": [],
   "source": [
    "L=[10,20,30,40,50,60,70,80,90,100]\n",
    "L[[1, 3, 5, 7]]"
   ]
  },
  {
   "cell_type": "code",
   "execution_count": null,
   "metadata": {},
   "outputs": [],
   "source": [
    "L=[10,20,30,40,50,60,70,80,90,100]\n",
    "L[1, 3, 5, 7]"
   ]
  },
  {
   "cell_type": "code",
   "execution_count": null,
   "metadata": {},
   "outputs": [],
   "source": [
    "L=[10,20,30,40,50,60,70,80,90,100]\n",
    "L[1::2]"
   ]
  },
  {
   "cell_type": "code",
   "execution_count": null,
   "metadata": {},
   "outputs": [],
   "source": [
    "L=[10,20,30,40,50,60,70,80,90,100]\n",
    "L[1:-1:2]"
   ]
  },
  {
   "cell_type": "code",
   "execution_count": null,
   "metadata": {},
   "outputs": [],
   "source": [
    "L=[10,20,30,40,50,60,70,80,90,100]\n",
    "L[2:-1:2]"
   ]
  },
  {
   "cell_type": "code",
   "execution_count": null,
   "metadata": {},
   "outputs": [],
   "source": [
    "[L[i] for i in range(1,9,2)]"
   ]
  },
  {
   "cell_type": "markdown",
   "metadata": {},
   "source": [
    "#### Question_5:\n",
    "__How to Append__\n",
    "```\n",
    "How will you add the list A = [10, 20, 30] at the end of list B = [45, 35, 25], making the final list as [45, 35, 25, 10, 20, 30].\n",
    "```\n",
    "- ```B.append(A)```\n",
    "- ```B.extend(A)```\n",
    "- ```[A, B]```\n",
    "- ```[A.append(i) for i in B]```"
   ]
  },
  {
   "cell_type": "code",
   "execution_count": null,
   "metadata": {},
   "outputs": [],
   "source": [
    "A = [10, 20, 30]\n",
    "B = [45, 35, 25]\n",
    "B.append(A)\n",
    "B"
   ]
  },
  {
   "cell_type": "code",
   "execution_count": null,
   "metadata": {},
   "outputs": [],
   "source": [
    "A = [10, 20, 30]\n",
    "B = [45, 35, 25]\n",
    "B.extend(A)\n",
    "B"
   ]
  },
  {
   "cell_type": "code",
   "execution_count": null,
   "metadata": {},
   "outputs": [],
   "source": [
    "A = [10, 20, 30]\n",
    "B = [45, 35, 25]\n",
    "[A, B]"
   ]
  },
  {
   "cell_type": "code",
   "execution_count": null,
   "metadata": {},
   "outputs": [],
   "source": [
    "A = [10, 20, 30]\n",
    "B = [45, 35, 25]\n",
    "[A.append(i) for i in B]"
   ]
  },
  {
   "cell_type": "markdown",
   "metadata": {},
   "source": [
    "### Coding Practice"
   ]
  },
  {
   "cell_type": "markdown",
   "metadata": {},
   "source": [
    "__Smallest Element__<br><br>\n",
    "__Description__<br><br>\n",
    "You have to find and print the smallest element of the list given as input. <br><br>\n",
    "__Input:__<br>\n",
    "A non-empty list of integers.<br><br>\n",
    "__Output:__<br>\n",
    "The smallest integer of the input list.<br><br>\n",
    "__Sample input_1:__<br>\n",
    "[2, -3, 0, 7, 21]<br><br>\n",
    "__Sample output_1:__<br>\n",
    "-3<br><br>"
   ]
  },
  {
   "cell_type": "code",
   "execution_count": null,
   "metadata": {},
   "outputs": [],
   "source": [
    "# Solution_1: Using min() function\n",
    "import ast\n",
    "input_list = ast.literal_eval(input())\n",
    "print(min(input_list))"
   ]
  },
  {
   "cell_type": "code",
   "execution_count": null,
   "metadata": {},
   "outputs": [],
   "source": [
    "# Solution_2: using for loop\n",
    "import ast\n",
    "input_list = ast.literal_eval(input())\n",
    "small = input_list[0]\n",
    "\n",
    "for i in input_list:\n",
    "    if i<small:\n",
    "        small = i\n",
    "print(small)"
   ]
  },
  {
   "cell_type": "markdown",
   "metadata": {},
   "source": [
    "__Above Average__<br><br>\n",
    "__Description__<br><br>\n",
    "Finding the average of the data and comparing it with other values is often encountered while analysing the data. Here you will do the same thing. The data will be provided to you in a list. You will also be given a number check.  You will return whether the number check is above average or no.<br><br>\n",
    "__Input:__<br>\n",
    "A list with two elements:<br>\n",
    "The first element will be the list of data of integers and<br>\n",
    "The second element will be an integer __check__.\n",
    "<br><br>\n",
    "__Output:__<br>\n",
    "True if __check__ is above average and False otherwise<br><br>\n",
    "__Sample input_1:__<br>\n",
    "[[2,4,6,8,10], 4]<br><br>\n",
    "__Sample output_1:__<br>\n",
    "False<br><br>\n",
    "__Sample input_2:__<br>\n",
    "[ [2,4,6,8,-10],  4]<br><br>\n",
    "__Sample output_1:__<br>\n",
    "True<br><br>"
   ]
  },
  {
   "cell_type": "code",
   "execution_count": null,
   "metadata": {},
   "outputs": [],
   "source": [
    "# Solution_1: using inbuilt function\n",
    "import ast\n",
    "input_list = ast.literal_eval(input())\n",
    "avg_list = input_list[0]\n",
    "check = input_list[1]\n",
    "\n",
    "average = sum(avg_list)/len(avg_list)\n",
    "\n",
    "if average < check:\n",
    "    print(True)\n",
    "else:\n",
    "    print(False)"
   ]
  },
  {
   "cell_type": "code",
   "execution_count": null,
   "metadata": {},
   "outputs": [],
   "source": [
    "# Solution_2: using conventional function\n",
    "\n",
    "import ast\n",
    "input_list = ast.literal_eval(input())\n",
    "avg_list = input_list[0]\n",
    "check = input_list[1]\n",
    "\n",
    "total = 0\n",
    "\n",
    "for i in avg_list:\n",
    "    total += i\n",
    "\n",
    "average = total/len(avg_list)\n",
    "\n",
    "if average < check:\n",
    "    print(True)\n",
    "else:\n",
    "    print(False)"
   ]
  },
  {
   "cell_type": "markdown",
   "metadata": {},
   "source": [
    "__Recruit New Members__<br><br>\n",
    "__Description__<br><br>\n",
    "Suppose you are a manager as a big firm and now are looking for new members for your team. You sent out an advertisement and have received a few applications. You have a habit of scoring people on a scale of 100. You have given scores to all the members of your team and the new applications. The process of selection is going to be very straightforward if the applicant improves the average of the team then you hire the applicant to join the team or else reject the application. Remember the order of processing applications is going to be important here.<br><br>\n",
    "You may see this as an extension of the previous problem, which it is. You may use the code written in the previous question as a function to improve the code quality.<br><br>\n",
    "__Input:__<br>\n",
    "Two lists on two separate lines.<br>\n",
    "The first line will have the list of scores of current team members<br>\n",
    "The second line will have the list of scores of the applicants.\n",
    "<br><br>\n",
    "__Output:__<br>\n",
    "The list consisting of scores of the final team after hiring from the pool of applicants.<br><br>\n",
    "__Sample input_1:__<br>\n",
    "[23,45,34,76]<br>\n",
    "[70,34,94]<br><br>\n",
    "__Sample output_1:__<br>\n",
    "```\n",
    "[23, 45, 34, 76, 70, 94]\n",
    "```\n",
    "<br>\n",
    "\n",
    "__Explanation:__<br>\n",
    "The first applicant has score 70, and the team average is 44.5 hence the applicant is hired making the team average 49.6<br>\n",
    "The second applicant has score 34, and the team average is 49.6 hence the applicant is rejected keeping the team average same 49.6<br>\n",
    "The third applicant has score 94, and the team average is 49.6 hence the applicant is hired making the team average 57<br><br>\n",
    "__Sample input_1:__<br>\n",
    "[10,20,30,40,50]<br>\n",
    "[30,60,80,40]<br><br>\n",
    "__Sample output_1:__<br>\n",
    "```\n",
    "[10, 20, 30, 40, 50, 60, 80]\n",
    "```"
   ]
  },
  {
   "cell_type": "code",
   "execution_count": null,
   "metadata": {},
   "outputs": [],
   "source": [
    "# solution_1: using user defind function\n",
    "import ast\n",
    "team_list = ast.literal_eval(input())\n",
    "applicant_list = ast.literal_eval(input())\n",
    "\n",
    "def check_above_avg(data,check):\n",
    "    avg = sum(data)/len(data)\n",
    "    if avg < check:\n",
    "        return 1\n",
    "    else:\n",
    "        return 0\n",
    "    \n",
    "for applicant in applicant_list:\n",
    "    finalist = check_above_avg(team_list,applicant)\n",
    "    if finalist == 1:\n",
    "        team_list.append(applicant)\n",
    "\n",
    "print(team_list)\n",
    "    "
   ]
  },
  {
   "cell_type": "code",
   "execution_count": null,
   "metadata": {},
   "outputs": [],
   "source": [
    "# not correct need to check\n",
    "import ast\n",
    "team_list = ast.literal_eval(input())\n",
    "applicant_list = ast.literal_eval(input())\n",
    "\n",
    "avg = sum(team_list) / len(team_list)\n",
    "\n",
    "for applicant in applicant_list:\n",
    "    if applicant > avg:\n",
    "        team_list.append(applicant)\n",
    "        \n",
    "print(team_list)"
   ]
  },
  {
   "cell_type": "markdown",
   "metadata": {},
   "source": [
    "__Calendar__<br><br>\n",
    "__Description__<br><br>\n",
    "You are planning to go to your friend's wedding and you have long events all month, lasting at least a few days. You have the start and end dates of events and your task is to find out events overlapping with the wedding date.<br><br>\n",
    "The code for taking input has already been written for you, please don't modify that, but do read and try to understand the way input has been taken. You will be asked to take input on your own for most of the problems here onwards. Taking data in a suitable format is an important skill for a Data Scientist.<br><br>\n",
    "__Input:__<br>\n",
    "The input will contain a list of lists where each sub-list has only two elements representing the start and end date of an event, the start date will be less than or equal to the end date. The next line of input will have a wedding date. \n",
    "<br><br>\n",
    "__Output:__<br>\n",
    "The output should have the number of events overlapping with the wedding date.<br><br>\n",
    "__Sample input_1:__<br>\n",
    "[ [29,31], [23,26], [24,25] ]<br>\n",
    "24<br><br>\n",
    "__Sample output_1:__<br>\n",
    "2\n",
    "<br><br>\n",
    "\n",
    "__Explanation:__<br>\n",
    "There are three events in the month.<br>\n",
    "Event 1= from date 29 to 31<br>\n",
    "Event 2= from date 23 to 26<br>\n",
    "Event 3= from date 24 to 25<br>\n",
    "Wedding is on 24. This means it will clash with Event 3 and Event 2, that is two events. The output is therefore 2.<br><br>\n",
    "__Sample input_1:__<br>\n",
    "[ [1, 4], [7, 10], [8, 8], [14, 23] ]<br>\n",
    "26<br><br>\n",
    "__Sample output_1:__<br>\n",
    "0"
   ]
  },
  {
   "cell_type": "code",
   "execution_count": null,
   "metadata": {},
   "outputs": [],
   "source": [
    "# Solution_1: elaborate if condition\n",
    "import ast\n",
    "event_list = ast.literal_eval(input())\n",
    "marriage = int(input())\n",
    "\n",
    "clash = 0\n",
    "\n",
    "for dates in event_list:\n",
    "    if marriage >= dates[0] and marriage <= dates[1]:\n",
    "        clash += 1 \n",
    "\n",
    "print(clash)"
   ]
  },
  {
   "cell_type": "code",
   "execution_count": null,
   "metadata": {},
   "outputs": [],
   "source": [
    "# Solution_2: consise if condition\n",
    "import ast\n",
    "event_list = ast.literal_eval(input())\n",
    "marriage = int(input())\n",
    "\n",
    "clash = 0\n",
    "\n",
    "for dates in event_list:\n",
    "    if dates[0] <= marriage <= dates[1]:\n",
    "        clash += 1 \n",
    "\n",
    "print(clash)"
   ]
  },
  {
   "cell_type": "markdown",
   "metadata": {},
   "source": [
    "__Fenced Matrix__<br><br>\n",
    "__Description__<br><br>\n",
    "You will be given two positive integers m and n. You have to make a list of lists (which can be visualised as a matrix) of size m*n, that is m sublists (rows), with each sublists having n integers (columns). The matrix should be such that it should have 1 on the border and 0 everywhere else. See sample input and output for more clarification.<br><br>\n",
    "__Input:__<br>\n",
    "Two integers separated by a comma<br><br>\n",
    "__Output:__<br>\n",
    "The output should have the number of events overlapping with the wedding date.<br><br>\n",
    "__Sample input_1:__<br>\n",
    "4,5<br><br>\n",
    "__Sample output_1:__<br>\n",
    "```\n",
    "[1, 1, 1, 1, 1]\n",
    "[1, 0, 0, 0, 1]\n",
    "[1, 0, 0, 0, 1]\n",
    "[1, 1, 1, 1, 1]\n",
    "``` \n",
    "<br>\n",
    "__Sample input_2:__<br>\n",
    "3,3<br><br>\n",
    "__Sample output_2:__<br>\n",
    "\n",
    "```\n",
    "[1, 1, 1]\n",
    "[1, 0, 1]\n",
    "[1, 1, 1]\n",
    "```\n",
    "__Sample input_3:__<br>\n",
    "3,2<br><br>\n",
    "__Sample output_3:__<br>\n",
    "\n",
    "```\n",
    "[1, 1]\n",
    "[1, 1]\n",
    "[1, 1]\n",
    "\n",
    "```\n",
    "\n"
   ]
  },
  {
   "cell_type": "code",
   "execution_count": null,
   "metadata": {},
   "outputs": [],
   "source": [
    "# Not list way, it is pattern way\n",
    "in_str = input().split(',')\n",
    "m = int(in_str[0])\n",
    "n = int(in_str[1])\n",
    "\n",
    "for row in range(0,m):\n",
    "    for col in range(0,n):\n",
    "        if (row == 0 or row == m-1) or (col == 0 or col == n-1):\n",
    "            print(1,end=\" \")\n",
    "        else:\n",
    "            print(0,end=\" \")\n",
    "    print()\n"
   ]
  },
  {
   "cell_type": "code",
   "execution_count": null,
   "metadata": {},
   "outputs": [],
   "source": [
    "# Solution_1:\n",
    "in_str = input().split(',')\n",
    "m = int(in_str[0])\n",
    "n = int(in_str[1])\n",
    "\n",
    "final = [0]*n\n",
    "final = [list(final) for i in range(m)]\n",
    "\n",
    "for row in range(m):\n",
    "    for col in range(n):\n",
    "        if row == 0 or row == m-1 or col == 0 or col == n-1:\n",
    "            final[row][col] = 1\n",
    "\n",
    "\n",
    "for i in final:\n",
    "    print(i)"
   ]
  },
  {
   "cell_type": "markdown",
   "metadata": {},
   "source": [
    "## Strings"
   ]
  },
  {
   "cell_type": "markdown",
   "metadata": {},
   "source": [
    "### MCQs"
   ]
  },
  {
   "cell_type": "markdown",
   "metadata": {},
   "source": [
    "#### Question_1:\n",
    "__Strings__\n",
    "Strings is a data structure in python. There are two types of data structures- immutable and mutable. Strings are under which category?\n",
    "\n",
    "- Always Mutable\n",
    "- Always Immutable\n",
    "- Can be both depending on initialisation\n"
   ]
  },
  {
   "cell_type": "code",
   "execution_count": null,
   "metadata": {},
   "outputs": [],
   "source": [
    "# Strings are immuatable"
   ]
  },
  {
   "cell_type": "markdown",
   "metadata": {},
   "source": [
    "#### Question_2:\n",
    "__Character__\n",
    "What will be the output of the following?\n",
    "```\n",
    "print(chr(51))\n",
    "```\n",
    "\n",
    "- 3\n",
    "- Will throw an error\n",
    "- a\n",
    "- 'A'\n",
    "- '3'"
   ]
  },
  {
   "cell_type": "code",
   "execution_count": null,
   "metadata": {},
   "outputs": [],
   "source": [
    "print(chr(51))\n",
    "# Explanation: 51 is ASCII code of '3'"
   ]
  },
  {
   "cell_type": "markdown",
   "metadata": {},
   "source": [
    "#### Question_3:\n",
    "__ASCII__\n",
    "Given an ASCII code, how will you find the character associated with it? Suppose the given ASCII code is 123.\n",
    "\n",
    "- char(123)\n",
    "- ord(123)\n",
    "- chr(123)\n",
    "- ord('123')"
   ]
  },
  {
   "cell_type": "code",
   "execution_count": null,
   "metadata": {},
   "outputs": [],
   "source": [
    "chr(123)"
   ]
  },
  {
   "cell_type": "markdown",
   "metadata": {},
   "source": [
    "#### Question_4:\n",
    "__Strip__\n",
    "What does the following line of code do to a string S\n",
    "```\n",
    "S.strip()\n",
    "```\n",
    "\n",
    "- Remove empty spaces from the left end of the string\n",
    "- Remove empty spaces from the right end of the string\n",
    "- Separate every character of the string\n",
    "- Remove empty spaces from both ends of the string"
   ]
  },
  {
   "cell_type": "code",
   "execution_count": null,
   "metadata": {},
   "outputs": [],
   "source": [
    "# Remove empty spaces from both ends of the string"
   ]
  },
  {
   "cell_type": "markdown",
   "metadata": {},
   "source": [
    "#### Question_5:\n",
    "__Map, Filter, Reduce__\n",
    "Will the functions map, reduce, filter work on Strings?\n",
    "\n",
    "- None of them will work, they will work only on List and other mutable Data structures.\n",
    "- Only map will not work.\n",
    "- Only filter will not work\n",
    "- All three will work\n",
    "- Only reduce will not work"
   ]
  },
  {
   "cell_type": "code",
   "execution_count": null,
   "metadata": {},
   "outputs": [],
   "source": [
    "# They will all work on strings and any other iterable Data structure."
   ]
  },
  {
   "cell_type": "markdown",
   "metadata": {},
   "source": [
    "#### Question_6:\n",
    "__String__\n",
    "Which of the following will give the output as 'upGrad'?\n",
    "\n",
    "Multiple answers may be correct.\n",
    "\n",
    "- ```\n",
    "s = upGrad\n",
    "```\n",
    "- ```\n",
    "s = upgrad\n",
    "s = s[:2] + s[2].upper() + s[3:]\n",
    "```\n",
    "- ```\n",
    "'G'.join(['up','rad'])\n",
    "```\n",
    "- ```\n",
    "s='aabupGradaab'.strip('aab')\n",
    "```\n",
    "- ```\n",
    "s='aabupGradaab'.strip('a').strip('b').strip('a')\n",
    "```"
   ]
  },
  {
   "cell_type": "code",
   "execution_count": null,
   "metadata": {},
   "outputs": [],
   "source": [
    "s = upGrad\n",
    "s"
   ]
  },
  {
   "cell_type": "code",
   "execution_count": null,
   "metadata": {},
   "outputs": [],
   "source": [
    "s = upgrad\n",
    "s = s[:2] + s[2].upper() + s[3:]\n"
   ]
  },
  {
   "cell_type": "code",
   "execution_count": null,
   "metadata": {},
   "outputs": [],
   "source": [
    "'G'.join(['up','rad'])"
   ]
  },
  {
   "cell_type": "code",
   "execution_count": null,
   "metadata": {},
   "outputs": [],
   "source": [
    "s='aabupGradaab'.strip('aab')\n",
    "s"
   ]
  },
  {
   "cell_type": "code",
   "execution_count": null,
   "metadata": {},
   "outputs": [],
   "source": [
    "s='aabupGradaab'.strip('a').strip('b').strip('a')\n",
    "s"
   ]
  },
  {
   "cell_type": "markdown",
   "metadata": {},
   "source": [
    "### coding exercise"
   ]
  },
  {
   "cell_type": "markdown",
   "metadata": {},
   "source": [
    "__Palindrome String__<br><br>\n",
    "__Description__<br><br>\n",
    "Write a program to check whether a string is a palindrome or not. Print 1 if the string is a palindrome and 0 otherwise.<br><br>\n",
    "Note: Please ensure that your program should not be case-sensitive. So, if the input is, say, “HAnnah”, then, its output should be 1.<br><br>\n",
    "__Input:__<br>\n",
    "A string<br><br>\n",
    "__Output:__<br>\n",
    "1 if the string is a palindrome, 0 otherwise<br><br>\n",
    "__Sample input_1:__<br>\n",
    "HAnnah<br><br>\n",
    "__Sample output_1:__<br>\n",
    "1<br><br>\n",
    "__Sample input_2:__<br>\n",
    "Rebecca<br><br>\n",
    "__Sample output_2:__<br>\n",
    "0"
   ]
  },
  {
   "cell_type": "code",
   "execution_count": null,
   "metadata": {},
   "outputs": [],
   "source": [
    "# solution_1: using string slicing\n",
    "s = input()\n",
    "reverse_str = s[::-1]\n",
    "if s.lower() == reverse_str.lower():\n",
    "    print(1)\n",
    "else:\n",
    "    print(0)"
   ]
  },
  {
   "cell_type": "code",
   "execution_count": null,
   "metadata": {},
   "outputs": [],
   "source": [
    "# Solution_2: using for loop\n",
    "s = input().lower()\n",
    "r = \"\"\n",
    "for i in s:\n",
    "    r = i + r # it will create reverse string\n",
    "\n",
    "if s == r:\n",
    "    print(1)\n",
    "else:\n",
    "    print(0)"
   ]
  },
  {
   "cell_type": "markdown",
   "metadata": {},
   "source": [
    "__Reverse Words__<br><br>\n",
    "__Description__<br><br>\n",
    "You will be given a sentence in the form of a string. You have to reverse the order of the words in the sentence. Remember not to reverse the individual words, but the order of words. Check the sample input-output for further clarification.<br><br>\n",
    "__Input:__<br>\n",
    "A string, which will consist of a few spaces.<br><br>\n",
    "__Output:__<br>\n",
    "The words in reverse order.<br><br>\n",
    "__Sample input_1:__<br>\n",
    "I love coding in python<br><br>\n",
    "__Sample output_1:__<br>\n",
    "python in coding love I<br><br>\n",
    "__Sample input_2:__<br>\n",
    "python is super easy and fun<br><br>\n",
    "__Sample output_2:__<br>\n",
    "fun and easy super is python"
   ]
  },
  {
   "cell_type": "code",
   "execution_count": null,
   "metadata": {},
   "outputs": [],
   "source": [
    "# Solution_1: split and join method with slicing\n",
    "sentence = input().split()\n",
    "new_list = sentence[::-1]\n",
    "print(\" \".join(new_list))"
   ]
  },
  {
   "cell_type": "code",
   "execution_count": null,
   "metadata": {},
   "outputs": [],
   "source": [
    "# Solution_2: using reversed function with slicing\n",
    "sentence = input().split()\n",
    "new_list = list(reversed(sentence))\n",
    "print(\" \".join(new_list))"
   ]
  },
  {
   "cell_type": "markdown",
   "metadata": {},
   "source": [
    "__No Spaces__<br><br>\n",
    "__Description__<br><br>\n",
    "While naming entities, it is a common practice to avoid spaces. That is the reason you see so many people using underscores instead of spaces. <br>\n",
    "You will be given a string, containing a few spaces and random upper and lower cases. You have to write a code that will add underscore in place of spaces and also capitalise the letters properly, i.e. the first letter after underscore should be in upper case and the first letter of the string should be in upper case, all of the other letters should be lower case. <br>\n",
    "This type of activity is frequently encountered while starting to analyse data. This is called Data cleaning and you will learn more about it in upcoming modules.<br><br>\n",
    "__Input:__<br>\n",
    "A string of only alphabets and spaces<br><br>\n",
    "__Output:__<br>\n",
    "A string formatted as stated above. See sample input/output for more clarification,<br><br>\n",
    "__Sample input_1:__<br>\n",
    "caloRie consuMed<br><br>\n",
    "__Sample output_1:__<br>\n",
    "Calorie_Consumed<br><br>\n",
    "__Sample input_2:__<br>\n",
    "data science<br><br>\n",
    "__Sample output_2:__<br>\n",
    "Data_Science"
   ]
  },
  {
   "cell_type": "code",
   "execution_count": null,
   "metadata": {},
   "outputs": [],
   "source": [
    "# Solution_1: using built in functions without any loop\n",
    "in_str = input().lower().split()\n",
    "output_list = \"_\".join(in_str).title()\n",
    "print(output_list)"
   ]
  },
  {
   "cell_type": "code",
   "execution_count": null,
   "metadata": {},
   "outputs": [],
   "source": [
    "# Solution_2: using list comprehension\n",
    "in_str = input().lower()\n",
    "words = in_str.split()\n",
    "final_list = [word[0].upper()+word[1:] for word in words]\n",
    "final_str = \"_\".join(final_list)\n",
    "print(final_str)"
   ]
  },
  {
   "cell_type": "code",
   "execution_count": null,
   "metadata": {},
   "outputs": [],
   "source": [
    "# Solution_3: using list comprehension with builtin function\n",
    "in_str = input().lower()\n",
    "words = in_str.split()\n",
    "final_list = [word.title() for word in words]\n",
    "final_str = \"_\".join(final_list)\n",
    "print(final_str)"
   ]
  },
  {
   "cell_type": "markdown",
   "metadata": {},
   "source": [
    "__Shift Vowels__<br><br>\n",
    "__Description__<br><br>\n",
    "Write a program that receives a string and shifts all the vowels present in it to the beginning. Output the resultant string. The order of all the vowels with respect to each other as well as the order of all the other characters with respect to each other should stay the same.<br><br>\n",
    "__Input:__<br>\n",
    "A string<br><br>\n",
    "__Output:__<br>\n",
    "Vowels shifted to the beginning in the input string.<br><br>\n",
    "__Sample input_1:__<br>\n",
    "programming<br><br>\n",
    "__Sample output_1:__<br>\n",
    "oaiprgrmmng<br><br>\n",
    "__Sample input_2:__<br>\n",
    "You love Python!<br><br>\n",
    "__Sample output_2:__<br>\n",
    "ouoeoY lv Pythn!<br><br>\n"
   ]
  },
  {
   "cell_type": "code",
   "execution_count": null,
   "metadata": {},
   "outputs": [],
   "source": [
    "# Solution_1: using loop\n",
    "in_str = input()\n",
    "vowels_str = \"\"\n",
    "other_str = \"\"\n",
    "\n",
    "for letter in in_str:\n",
    "    if letter in 'AEIOUaeiou':\n",
    "        vowels_str += letter\n",
    "    else:\n",
    "        other_str += letter\n",
    "\n",
    "print(vowels_str+other_str)"
   ]
  },
  {
   "cell_type": "code",
   "execution_count": null,
   "metadata": {},
   "outputs": [],
   "source": [
    "# Solution_2: using list comprehension\n",
    "in_str = input()\n",
    "vowels_list = [word for word in in_str if word in 'AEIOUaeiou']\n",
    "other_list = [word for word in in_str if word not in 'AEIOUaeiou']\n",
    "vowels_str = \"\".join(vowels_list)\n",
    "other_str = \"\".join(other_list)\n",
    "print(vowels_str+other_str)"
   ]
  },
  {
   "cell_type": "markdown",
   "metadata": {},
   "source": [
    "__Common Prefix__<br><br>\n",
    "__Description__<br><br>\n",
    "You will be given two strings. You have to find the largest prefix common in both the strings.<br><br>\n",
    "__Input:__<br>\n",
    "Two lines of input, one string on each line<br><br>\n",
    "__Output:__<br>\n",
    "The common largest prefix for both strings. Check sample input/output for clarification. -1 if no prefix is common.<br><br>\n",
    "__Sample input_1:__<br>\n",
    "abshdksajd<br>\n",
    "abshiehand<br><br>\n",
    "__Sample output_1:__<br>\n",
    "absh<br><br>\n",
    "__Sample input_2:__<br>\n",
    "upgradData<br>\n",
    "upGradScience<br><br>\n",
    "__Sample output_2:__<br>\n",
    "upgrad<br><br>"
   ]
  },
  {
   "cell_type": "code",
   "execution_count": null,
   "metadata": {},
   "outputs": [],
   "source": [
    "# solution_1:\n",
    "str1 = input().lower()\n",
    "str2 = input().lower()\n",
    "\n",
    "for i in range(min(len(str1),len(str2))):\n",
    "    if str1[i] != str2[i]:\n",
    "        break\n",
    "\n",
    "if i == 0:\n",
    "    print(-1)\n",
    "else:\n",
    "    print(str1[:i])\n"
   ]
  },
  {
   "cell_type": "code",
   "execution_count": null,
   "metadata": {},
   "outputs": [],
   "source": [
    "# Reduce cannot be used because if len of list is more it is reducing more char\n",
    "def prefix(str1,str2):\n",
    "    for i in range(min(len(str1),len(str2))):\n",
    "        if str1[i].lower() != str2[i].lower():\n",
    "            break\n",
    "    if i == 0:\n",
    "        return -1\n",
    "    else:\n",
    "        return (str1[:i].lower())\n",
    "        \n",
    "        \n",
    "my_list = [\"upgradData\",\"upGradScience\",'upgradAI',\"upgradDS\",\"UpgradML\"]\n",
    "# my_list = [\"upgradData\",\"upGradScience\",'upgradAI'] \n",
    "from functools import reduce\n",
    "print(reduce(prefix,my_list))"
   ]
  },
  {
   "cell_type": "code",
   "execution_count": null,
   "metadata": {},
   "outputs": [],
   "source": [
    "# common prefix for multiple string in a list\n",
    "my_list = [\"upgradData\",\"upGradScience\",'upgradAI']\n",
    "\n",
    "\n",
    "def common_prefix(my_list):\n",
    "    my_list1 = sorted(my_list,key=len)\n",
    "    prefix = \"\"\n",
    "    for i in range(len(my_list1[0])):\n",
    "        if my_list1[len(my_list1)-1][i].lower() == my_list1[0][i].lower(): \n",
    "            prefix += my_list1[len(my_list1) -1][i].lower()\n",
    "        else:\n",
    "            break\n",
    "    return prefix\n",
    "\n",
    "\n",
    "print(common_prefix(my_list))\n",
    "\n",
    "# my_list1[len(my_list1) -1][i].lower(), here -1 given for we are comparing with one element from the list\n",
    "# so the len will be lengnth excluded one element"
   ]
  },
  {
   "cell_type": "markdown",
   "metadata": {},
   "source": [
    "__Anagrams__<br><br>\n",
    "__Description__<br><br>\n",
    "Two strings are anagrams of each other if you can rearrange the characters of one string to make the other string.\n",
    "Given two strings, can you find if they are anagrams or no?<br><br>\n",
    "__Input:__<br>\n",
    "Two lines of input, each line will contain a string without space.<br><br>\n",
    "__Output:__<br>\n",
    "True or False based on whether the strings are anagrams or not.<br><br>\n",
    "__Sample input_1:__<br>\n",
    "thing<br>\n",
    "night<br><br>\n",
    "__Sample output_1:__<br>\n",
    "True<br><br>\n",
    "__Sample input_2:__<br>\n",
    "upgrad\n",
    "found<br><br>\n",
    "__Sample output_2:__<br>\n",
    "False<br><br>\n",
    "Note: the code will be case-Sensitive<br>\n",
    "Hint: if the length of the strings doesn't match, the strings are obviously not anagrams."
   ]
  },
  {
   "cell_type": "code",
   "execution_count": null,
   "metadata": {},
   "outputs": [],
   "source": [
    "# Solution_1: using sorted() function\n",
    "string1 = input()\n",
    "string2 = input()\n",
    "\n",
    "string1 = sorted(string1)\n",
    "string2 = sorted(string2)\n",
    "\n",
    "if string1 == string2:\n",
    "    print(True)\n",
    "else:\n",
    "    print(False)"
   ]
  },
  {
   "cell_type": "code",
   "execution_count": null,
   "metadata": {},
   "outputs": [],
   "source": [
    "# Solution_2: using user defined function\n",
    "string1 = input()\n",
    "string2 = input()\n",
    "\n",
    "def anagrams(string1,string2):\n",
    "    if len(string1) != len(string2):\n",
    "        return False\n",
    "    for i in range(len(string1)):\n",
    "        if string1.count(string1[i]) != string2.count(string2[i]):\n",
    "            return False\n",
    "    return True\n",
    "\n",
    "print(anagrams(string1,string2))"
   ]
  },
  {
   "cell_type": "markdown",
   "metadata": {},
   "source": [
    "## Other Data Structures"
   ]
  },
  {
   "cell_type": "markdown",
   "metadata": {},
   "source": [
    "### MCQs"
   ]
  },
  {
   "cell_type": "markdown",
   "metadata": {},
   "source": [
    "#### Question_1:\n",
    "__Intersection__<br><br>\n",
    "Which of the following codes can be used to find intersection of sets A, B and C.\n",
    "- ```set.intersection(A, B, C)```\n",
    "- ```A.intersection(B, C)```\n",
    "- ```A.intersection([B, C])```\n",
    "- ```set.intersection([A, B, C])```"
   ]
  },
  {
   "cell_type": "code",
   "execution_count": null,
   "metadata": {},
   "outputs": [],
   "source": [
    "# set.intersection(A, B, C)\n",
    "# A.intersection(B, C)"
   ]
  },
  {
   "cell_type": "markdown",
   "metadata": {},
   "source": [
    "#### Question_2:\n",
    "__Immutables__<br><br>\n",
    "Which of the following are immutable?\n",
    "- ```Elements of sets```\n",
    "- ```Lists```\n",
    "- ```Dictionary```\n",
    "- ```Tuples```"
   ]
  },
  {
   "cell_type": "code",
   "execution_count": null,
   "metadata": {},
   "outputs": [],
   "source": [
    "# Elements of sets\n",
    "# Tuples"
   ]
  },
  {
   "cell_type": "markdown",
   "metadata": {},
   "source": [
    "#### Question_3:\n",
    "__Dictionary__<br><br>\n",
    "Which of the following will create a dictionary?\n",
    "- ```d = {}```\n",
    "- ```d = ('a':1, 'b':2)```\n",
    "- ```d=dict(a=1, b=2)```\n",
    "- ```d={'a'=1, 'b'=2}```\n",
    "- ```d={'a':1, 'b':2}```"
   ]
  },
  {
   "cell_type": "code",
   "execution_count": null,
   "metadata": {},
   "outputs": [],
   "source": [
    "# d = {}\n",
    "# d=dict(a=1, b=2)\n",
    "# d={'a':1, 'b':2}"
   ]
  },
  {
   "cell_type": "markdown",
   "metadata": {},
   "source": [
    "#### Question_4:\n",
    "__Keys__<br><br>\n",
    "What will the following code return?\n",
    "```\n",
    "d={'a':64, 'b':65, 'c':66, 'd':67}\n",
    "print(d['e'])\n",
    "```\n",
    "- ```68```\n",
    "- ```0```\n",
    "- ```nan```\n",
    "- ```Error```"
   ]
  },
  {
   "cell_type": "code",
   "execution_count": null,
   "metadata": {},
   "outputs": [],
   "source": [
    "d={'a':64, 'b':65, 'c':66, 'd':67}\n",
    "print(d['e'])\n",
    "# Explanation: in the dictionary, there is no element 'e' in the keys of the dictionary, \n",
    "# trying to access value of a key that doesn't exist will give an error."
   ]
  },
  {
   "cell_type": "markdown",
   "metadata": {},
   "source": [
    "#### Question_5:\n",
    "__Keys__<br><br>\n",
    "What will the following code return?\n",
    "```\n",
    "d={'a':64, 'b':65, 'c':66, 'd':67}\n",
    "print(d.keys())\n",
    "```\n",
    "- ```[a, b, c, d]```\n",
    "- ```('a', 'b', 'c', 'd')```\n",
    "- ```['a':64, 'b':65, 'c':66, 'd':67]```\n",
    "- ```['a', 'b', 'c', 'd']```\n",
    "- ```('a':64, 'b':65, 'c':66, 'd':67)```"
   ]
  },
  {
   "cell_type": "code",
   "execution_count": null,
   "metadata": {},
   "outputs": [],
   "source": [
    "d={'a':64, 'b':65, 'c':66, 'd':67}\n",
    "print(d.keys())"
   ]
  },
  {
   "cell_type": "markdown",
   "metadata": {},
   "source": [
    "#### Question_6:\n",
    "__Values?__<br><br>\n",
    "Dictionary can be seen as a map between two entities called keys and values. All the keys in the list can be accessed by d.keys() where d is the dictionary. How are values accessed in the dictionary?\n",
    "\n",
    "Assume name of the dictionary is d.\n",
    "\n",
    "- ```d.vals```\n",
    "- ```d.vals()```\n",
    "- ```d.value()```\n",
    "- ```d.values()```\n",
    "- ```d.values```"
   ]
  },
  {
   "cell_type": "code",
   "execution_count": null,
   "metadata": {},
   "outputs": [],
   "source": [
    "d.values()"
   ]
  },
  {
   "cell_type": "markdown",
   "metadata": {},
   "source": [
    "#### Question_7:\n",
    "__Deleting Key__<br><br>\n",
    "Suppose dict_1 = {\"Python'':40, \"R'':45}. What command should be used to delete the entry?\n",
    "\n",
    "- ```dict_1.delete('R':45)```\n",
    "- ```del dict_1['R']```\n",
    "- ```dict_1.delete('R')```\n",
    "- ```del dict_1('R':40)```"
   ]
  },
  {
   "cell_type": "code",
   "execution_count": null,
   "metadata": {},
   "outputs": [],
   "source": [
    "dict_1 = {'Python':40, 'R':45}\n",
    "del dict_1[\"R\"]\n",
    "dict_1"
   ]
  },
  {
   "cell_type": "markdown",
   "metadata": {},
   "source": [
    "### Coding Exercise"
   ]
  },
  {
   "cell_type": "markdown",
   "metadata": {},
   "source": [
    "__Remove Duplicates__<br><br>\n",
    "__Description__<br><br>\n",
    "Sometimes the data has few duplicate values which will affect the analysis done. In this problem, you will be given a list. You have to find and delete the duplicates and print the updated list with no duplicates.<br><br>\n",
    "__Input:__<br>\n",
    "A list of integers.<br><br>\n",
    "__Output:__<br>\n",
    "A list of integers, with duplicates removed if any.<br><br>\n",
    "__Sample input_1:__<br>\n",
    "[8, 9, 2, 2, 3, 4, 5, 2]<br><br>\n",
    "__Sample output_1:__<br>\n",
    "[8, 9, 2, 3, 4, 5]<br><br>\n",
    "__Sample input_2:__<br>\n",
    "[4, 4, 4, 4]<br><br>\n",
    "__Sample output_2:__<br>\n",
    "[4]<br><br>\n",
    "Note: the code will be case-Sensitive<br>\n",
    "Hint: if the length of the strings doesn't match, the strings are obviously not anagrams."
   ]
  },
  {
   "cell_type": "code",
   "execution_count": null,
   "metadata": {},
   "outputs": [],
   "source": [
    "import ast\n",
    "in_list = ast.literal_eval(input())\n",
    "dict1 = {}\n",
    "for i in in_list:\n",
    "    if i not in dict1:\n",
    "        dict1[i] = 1 \n",
    "print(list(dict1.keys()))"
   ]
  },
  {
   "cell_type": "code",
   "execution_count": null,
   "metadata": {},
   "outputs": [],
   "source": [
    "# To count the number of repeting numbers\n",
    "import ast\n",
    "in_list = ast.literal_eval(input())\n",
    "dict1 = {}\n",
    "for i in in_list:\n",
    "    if i not in dict1:\n",
    "        dict1[i] = 1\n",
    "    else:\n",
    "        dict1[i] += 1 \n",
    "print(dict1)"
   ]
  },
  {
   "cell_type": "code",
   "execution_count": null,
   "metadata": {},
   "outputs": [],
   "source": [
    "# Solution_2: Here set can notbe uses because order will change\n",
    "import ast\n",
    "in_list = ast.literal_eval(input())\n",
    "in_set = set(in_list)\n",
    "in_set = list(in_set)\n",
    "in_set"
   ]
  },
  {
   "cell_type": "markdown",
   "metadata": {},
   "source": [
    "__Dictionary And List__<br><br>\n",
    "__Description__<br><br>\n",
    "You will be converting a dictionary, of string(keys) and list of string (values),  to a list of strings. Please check the sample input/output for clarification.<br><br>\n",
    "__Input:__<br>\n",
    "A dictionary with keys as strings and values as a list of strings.<br><br>\n",
    "__Output:__<br>\n",
    "A list of strings<br><br>\n",
    "__Sample input_1:__<br>\n",
    "{‘Mobile’: [‘Redmi’, ‘Samsung’, ‘Realme’], \n",
    "‘Laptop’: [‘Dell’, ‘HP’],\n",
    "‘TV’: [‘Videocon’, ‘Sony’] }\n",
    "<br><br>\n",
    "__Sample output_1:__<br>\n",
    "[‘Mobile_Redmi’, ‘Mobile_Samsung’, ‘Mobile_Realme’, ‘Laptop_Dell’, ‘Laptop_HP’, ‘TV_Videocon’, ‘TV_Sony’]<br><br>\n",
    "__Sample input_2:__<br>\n",
    "{ 'Pen': ['Gel', 'Ink', 'ball'],\n",
    "'Mobile': ['Android', 'apple'] }<br><br>\n",
    "__Sample output_2:__<br>\n",
    "['Pen_Gel', 'Pen_Ink', 'Pen_ball', 'Mobile_Android', 'Mobile_apple']<br><br>"
   ]
  },
  {
   "cell_type": "code",
   "execution_count": null,
   "metadata": {},
   "outputs": [],
   "source": [
    "# Solution_1:\n",
    "import ast\n",
    "input_dict = ast.literal_eval(input())\n",
    "final_list = []\n",
    "for key in input_dict.keys():\n",
    "    for value in input_dict[key]:\n",
    "        final_list.append(key+\"_\"+value)\n",
    "print(final_list)"
   ]
  },
  {
   "cell_type": "code",
   "execution_count": null,
   "metadata": {},
   "outputs": [],
   "source": [
    "# upGrad String\n",
    "\n",
    "# Description\n",
    "\n",
    "# For the purpose of this question, we will define something called an upGrad string. \n",
    "# Note that this definition is not valid outside this question. \n",
    "# A string upGrad string if the frequency of its characters is something like 1, 2, 3, 4, .... \n",
    "# That is a character appears only once, another appears twice, another appears thrice and so on. \n",
    "# For example string '$yrr$ssrsr%' is a beautiful string since the frequency of y:1, $:2, s:3, r:4, \n",
    "# however string  will not be beautiful since it has two characters (y and %) with frequency 1. \n",
    "# The frequency of characters should be of form 1, 2, 3, 4, 5... only.\n",
    "# Given a string, can you determine if the string is upGrad string or no?\n",
    "\n",
    "# Input:\n",
    "# A string\n",
    "\n",
    "# Output:\n",
    "# Boolean depending whether the string is upGrad string or not<br><br>\n",
    "\n",
    "# Sample input_1:\n",
    "# $yrr$ssrsr\n",
    "\n",
    "# Sample output_1:\n",
    "# True\n",
    "\n",
    "# Sample input_2:\n",
    "# $yrr$ssrsr%\n",
    "\n",
    "# Sample output_2:\n",
    "# False\n",
    "\n",
    "# Sample input_3:\n",
    "# ab#ab#ab6a\n",
    "\n",
    "# Sample output_2:\n",
    "# True"
   ]
  },
  {
   "cell_type": "code",
   "execution_count": null,
   "metadata": {},
   "outputs": [],
   "source": [
    "# Solution_1:\n",
    "upgrad_str = input()\n",
    "dict1 = {}\n",
    "\n",
    "for key in upgrad_str:\n",
    "    if key not in dict1:\n",
    "        dict1[key] = 1 \n",
    "    else:\n",
    "        dict1[key] += 1 \n",
    "        \n",
    "vals = dict1.values()\n",
    "n = len(dict1)\n",
    "def upgrad_string(vals):\n",
    "    for i in range(1,n+1):\n",
    "        if i not in vals:\n",
    "            return False\n",
    "    return True\n",
    "\n",
    "print(upgrad_string(vals))"
   ]
  },
  {
   "cell_type": "code",
   "execution_count": null,
   "metadata": {},
   "outputs": [],
   "source": [
    "# Solution_2: using dict comprehension\n",
    "upgrad_str = input()\n",
    "dict1 = {}\n",
    "\n",
    "for key in upgrad_str:\n",
    "    if key not in dict1:\n",
    "        dict1[key] = 1 \n",
    "    else:\n",
    "        dict1[key] += 1 \n",
    "\n",
    "dict2 = {k:v for k, v in sorted(dict1.items(),key=lambda x: x[1])}\n",
    "to_check = list(dict2.values())\n",
    "\n",
    "if to_check == list(range(1,len(dict1)+1)):\n",
    "    print(True)\n",
    "else:\n",
    "    print(False)"
   ]
  },
  {
   "cell_type": "code",
   "execution_count": null,
   "metadata": {},
   "outputs": [],
   "source": [
    "# Solution_3: using dict and sorted function\n",
    "upgrad_str = input()\n",
    "dict1 = {}\n",
    "\n",
    "for key in upgrad_str:\n",
    "    if key not in dict1:\n",
    "        dict1[key] = 1 \n",
    "    else:\n",
    "        dict1[key] += 1 \n",
    "\n",
    "dict2 = dict(sorted(dict1.items(),key=lambda x: x[1]))\n",
    "to_check = list(dict2.values())\n",
    "\n",
    "if to_check == list(range(1,len(dict1)+1)):\n",
    "    print(True)\n",
    "else:\n",
    "    print(False)"
   ]
  },
  {
   "cell_type": "markdown",
   "metadata": {},
   "source": [
    "__Balanced Brackets__<br><br>\n",
    "__Description__<br><br>\n",
    "You will be given a string with a lot of brackets. You have to print if the brackets are balanced or not. Remember, there are three types of brackets: ‘( )’,  ‘{ }’ and ‘[ ]’.<br><br>\n",
    "__Input:__<br>\n",
    "A string<br><br>\n",
    "__Output:__<br>\n",
    "Yes, if the brackets are balanced.<br>\n",
    "No otherwise.<br><br>\n",
    "__Sample input_1:__<br>\n",
    "){[[]]}())()\n",
    "<br><br>\n",
    "__Sample output_1:__<br>\n",
    "No<br><br>\n",
    "__Sample input_2:__<br>\n",
    "[](){[]()(){}}<br><br>\n",
    "__Sample output_2:__<br>\n",
    "Yes<br><br>"
   ]
  },
  {
   "cell_type": "code",
   "execution_count": 1,
   "metadata": {},
   "outputs": [
    {
     "name": "stdout",
     "output_type": "stream",
     "text": [
      "){[[]]}())()\n",
      "No\n"
     ]
    }
   ],
   "source": [
    "# Solution:\n",
    "in_str = input()\n",
    "stack = []\n",
    "\n",
    "for i in in_str:\n",
    "    if len(stack) == 0:\n",
    "        stack.append(i)\n",
    "    else:\n",
    "        if i == ')' and stack[-1] == '(':\n",
    "            stack.pop()\n",
    "        elif i == '}' and stack[-1] == '{':\n",
    "            stack.pop()\n",
    "        elif i == \"]\" and stack[-1] == '[':\n",
    "            stack.pop()\n",
    "        else:\n",
    "            stack.append(i)\n",
    "if len(stack) == 0:\n",
    "    print(\"Yes\")\n",
    "else:\n",
    "    print(\"No\")"
   ]
  }
 ],
 "metadata": {
  "kernelspec": {
   "display_name": "Python 3",
   "language": "python",
   "name": "python3"
  },
  "language_info": {
   "codemirror_mode": {
    "name": "ipython",
    "version": 3
   },
   "file_extension": ".py",
   "mimetype": "text/x-python",
   "name": "python",
   "nbconvert_exporter": "python",
   "pygments_lexer": "ipython3",
   "version": "3.8.5"
  }
 },
 "nbformat": 4,
 "nbformat_minor": 4
}
